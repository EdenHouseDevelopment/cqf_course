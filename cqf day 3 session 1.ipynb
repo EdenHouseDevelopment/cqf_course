{
 "cells": [
  {
   "cell_type": "code",
   "execution_count": 1,
   "metadata": {},
   "outputs": [],
   "source": [
    "import numpy as np\n",
    "import pandas as pd\n",
    "from pylab import plt\n",
    "from sklearn import linear_model\n",
    "plt.style.use('seaborn')\n",
    "#matplotlib inline\n",
    "\n",
    "data_url = 'http://hilpisch.com/tr_eikon_eod_data.csv'\n",
    "raw = pd.read_csv(data_url, index_col=0,parse_dates=True)\n",
    "raw.dropna(inplace=True)\n",
    "\n",
    "symbol = 'AAPL.O'\n",
    "\n",
    "data = pd.DataFrame(raw[symbol])\n",
    "\n",
    "data['Returns'] = np.log(data[symbol] / data[symbol].shift(1))\n",
    "data.dropna(inplace=True)\n",
    "\n",
    "data['Direction'] = np.sign(data['Returns'])"
   ]
  },
  {
   "cell_type": "code",
   "execution_count": null,
   "metadata": {},
   "outputs": [],
   "source": []
  }
 ],
 "metadata": {
  "kernelspec": {
   "display_name": "Python 3",
   "language": "python",
   "name": "python3"
  },
  "language_info": {
   "codemirror_mode": {
    "name": "ipython",
    "version": 3
   },
   "file_extension": ".py",
   "mimetype": "text/x-python",
   "name": "python",
   "nbconvert_exporter": "python",
   "pygments_lexer": "ipython3",
   "version": "3.7.1"
  }
 },
 "nbformat": 4,
 "nbformat_minor": 2
}
